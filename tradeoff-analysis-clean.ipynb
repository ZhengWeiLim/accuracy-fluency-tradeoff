{
 "cells": [
  {
   "cell_type": "code",
   "execution_count": 15,
   "id": "46cd2e5b-733e-42ad-a5d4-8278d0ecbe8b",
   "metadata": {},
   "outputs": [],
   "source": [
    "import warnings\n",
    "from wordfreq import zipf_frequency, word_frequency\n",
    "from nltk.tokenize import word_tokenize\n",
    "import pandas as pd\n",
    "import numpy as np\n",
    "import scipy.stats as ss\n",
    "from scipy.stats import zscore\n",
    "from copy import deepcopy\n",
    "import matplotlib.pyplot as plt\n",
    "import seaborn as sns\n",
    "import warnings\n",
    "warnings.filterwarnings('ignore')\n",
    "pd.set_option('display.max_colwidth', None)"
   ]
  },
  {
   "cell_type": "code",
   "execution_count": 5,
   "id": "17b1ae3e-478c-41d5-9932-3d36ec583143",
   "metadata": {},
   "outputs": [],
   "source": [
    "import csv\n",
    "\n",
    "def load_and_preprocess_mqm(mqm_dir, drop_duplicates=True, human_only=False, filter_human=False):\n",
    "    def get_mqm_error_score(severity, category, include=None):\n",
    "        \n",
    "        def include_cat_only(cat, include):\n",
    "            if include is None:\n",
    "                return True\n",
    "            else:\n",
    "                for inc in include:\n",
    "                    if inc in cat:\n",
    "                        return True\n",
    "            return False\n",
    "\n",
    "        severity = [s.lower() for s in severity]\n",
    "        category = [c.lower() for c in category]\n",
    "        err = 0\n",
    "        \n",
    "        for sev, cat in zip(severity, category):\n",
    "            if (sev == 'major' and 'non-translation' in cat) and include_cat_only(cat, include):\n",
    "                err += 25\n",
    "            elif sev == 'major' and include_cat_only(cat, include):\n",
    "                err += 5\n",
    "            elif (sev == 'minor' and 'punctuation' in cat) and include_cat_only(cat, include):\n",
    "                err += 0.1\n",
    "            elif sev == 'minor' and include_cat_only(cat, include):\n",
    "                err += 1\n",
    "        return max(25 - err, 0)\n",
    "    \n",
    "    corpora_lpairs = {'ted': ['ende', 'zhen'], 'newstest2020': ['ende', 'zhen'], 'newstest2021': ['ende', 'zhen'], 'generalMT2022': ['ende', 'zhen', 'enru'],\n",
    "                 'generalMT2023': ['ende', 'zhen']}\n",
    "\n",
    "    dfs = []\n",
    "\n",
    "    for corpus, lpairs in corpora_lpairs.items():\n",
    "        for lpair in lpairs:\n",
    "            fname = f'{mqm_dir}/mqm_{corpus}_{lpair}.tsv'\n",
    "\n",
    "            if corpus == 'generalMT2022' and lpair == 'enru':\n",
    "                df = pd.read_csv(fname, sep='\\t', on_bad_lines='warn', quoting=csv.QUOTE_NONE).drop_duplicates()\n",
    "\n",
    "            else:\n",
    "                df = pd.read_csv(fname, sep='\\t', on_bad_lines='warn').drop_duplicates()\n",
    "            \n",
    "            \n",
    "            seg_id_col = 'docSegId' if corpus == 'generalMT2023' else 'seg_id'\n",
    "            df[['doc', seg_id_col]] = df[['doc', seg_id_col]].astype(str) \n",
    "            df['src_sent_id'] = df[['doc', seg_id_col]].apply(lambda x: '_'.join([corpus, lpair, x[0], x[1]]), axis=1)\n",
    "            \n",
    "            \n",
    "            df['src_len'] = df['source'].apply(lambda x: len(str(x)))\n",
    "            df['tgt_len'] = df['target'].apply(lambda x: len(str(x)))\n",
    "            df['lpair'] = lpair\n",
    "            df['corpus'] = corpus\n",
    "            \n",
    "            mqm_score = df.groupby(['system', 'src_sent_id']).apply(lambda x: get_mqm_error_score(\n",
    "                x['severity'], x['category'])).reset_index().rename(columns={0: 'MQM_score'})\n",
    "            acc_score =  df.groupby(['system', 'src_sent_id']).apply(lambda x: get_mqm_error_score(\n",
    "                x['severity'], x['category'], include=['accuracy', 'non-translation', 'terminology'])).reset_index().rename(columns={0: 'MQM_acc_score'})\n",
    "            flu_score =  df.groupby(['system', 'src_sent_id']).apply(lambda x: get_mqm_error_score(\n",
    "                x['severity'], x['category'], include=['fluency', 'style', 'locale convention', 'non-translation'])).reset_index().rename(columns={0:'MQM_flu_score'})\n",
    "            \n",
    "            \n",
    "            if drop_duplicates:\n",
    "                df = df.drop_duplicates(['system', 'src_sent_id'], keep='first')\n",
    "                df['target'] = df['target'].apply(lambda x: x.replace('<v>', '').replace('</v>', ''))\n",
    "            else:\n",
    "                df['target_tagged'] = deepcopy(df['target'])\n",
    "                df['target'] = df['target_tagged'].apply(lambda x: x.replace('<v>', '').replace('</v>', ''))\n",
    "            \n",
    "            \n",
    "            for sc in [mqm_score, acc_score, flu_score]:\n",
    "                sc = sc.merge(df[['system', 'src_sent_id', 'target']], on=['src_sent_id', 'system'], how='left').reset_index()\n",
    "                sc = sc.groupby(['src_sent_id', 'target']).mean(numeric_only=True).reset_index()\n",
    "                df = df.merge(sc, on=['src_sent_id', 'target'], how='left')\n",
    "            \n",
    "            \n",
    "            if 'Unnamed: 0' in df.keys():\n",
    "                df = df.drop(columns='Unnamed: 0')\n",
    "            \n",
    "            \n",
    "            dfs.append(df)\n",
    "            \n",
    "    df = pd.concat(dfs, ignore_index=True)\n",
    "    \n",
    "    if filter_human:\n",
    "        df = df[~(df['system'].str.contains(\"ref\")) & ~(df['system'].str.contains(\"Human\"))]\n",
    "    \n",
    "    if human_only:\n",
    "        df = df[(df['system'].str.contains(\"ref\")) | (df['system'].str.contains(\"Human\"))]\n",
    "            \n",
    "    return df\n",
    "\n",
    "def preprocess_critt(df):\n",
    "    major_train_studies = ['RUC17', 'ENJA15', 'NJ12', 'STC17', 'SG12', 'ENDU20', 'BML12']\n",
    "    professional_studies = ['NJ12', 'BML12', 'ACS08', 'MS13', 'LWB09', 'BD08', 'CREATIVE']\n",
    "    semi_professional_studies = ['ENJA15', 'ENDU20', 'DG01']\n",
    "    \n",
    "    def get_text_id(study, session, segid, lpair):\n",
    "        textid = session.split('_')[1]\n",
    "        if study in major_train_studies:\n",
    "            return f'multiLing_{textid}_{segid}_{lpair}'\n",
    "        else:\n",
    "            return f'{study}_{textid}_{segid}'\n",
    "    \n",
    "    df = df.drop_duplicates()\n",
    "    df['prof'] = df['study'].apply(lambda x: 1 if x in professional_studies else 0)\n",
    "    df['prof'] = df[['study', 'prof']].apply(lambda x: 0.5 if x[0] in semi_professional_studies else x[1], axis=1)\n",
    "        \n",
    "    df[\"lpair\"] = df[['src_lang', 'tgt_lang']].apply(lambda x: ''.join(x), axis=1)\n",
    "    \n",
    "    df[\"src_sent_id\"] = df[[\"study\", \"session_id\", 'src_segid', 'lpair']].apply(lambda x: get_text_id(x[0], x[1], x[2], x[3]), axis=1)\n",
    "    return df\n",
    "\n",
    "\n",
    "def preprocess_rltc(df):\n",
    "    df = df.drop_duplicates()\n",
    "    df['source'] = df['source'].str.strip()\n",
    "    df['target'] = df['target'].str.strip()\n",
    "    df['src_sent_id'] = df[['filename', 'source']].apply(lambda x: '_'.join([x[0], x[1].replace(' ', '')]), axis=1)\n",
    "    return df\n",
    "\n",
    "\n",
    "critt = preprocess_critt(pd.read_csv('data/critt-sentences.tsv', sep='\\t'))\n",
    "rltc = preprocess_rltc(pd.read_csv('data/rltc-sentence-pairs.tsv', sep='\\t'))\n",
    "mtmqm = load_and_preprocess_mqm('data/data_mqm_bloom7b1_nllb3b', drop_duplicates=True, filter_human=True)\n",
    "\n",
    "\n",
    "\n",
    "for df in [critt, rltc, mtmqm]:\n",
    "\n",
    "    df['p_x|y'] = df['mt_backward_lprobs_sum']\n",
    "    df['p_y|x'] = df['mt_forward_lprobs_sum']\n",
    "    df['p_y_mt'] = df['skipped_forward_lprobs_sum']\n",
    "    df['p_x'] = df['skipped_backward_lprobs_sum']\n",
    "\n",
    "    df['src_len'] = df['source'].apply(lambda x: len(str(x)))\n",
    "    df['tgt_len'] = df['target'].apply(lambda x: len(str(x)))"
   ]
  },
  {
   "cell_type": "markdown",
   "id": "7256499a-8ecb-4098-9b3c-2e5ea30ee8a7",
   "metadata": {},
   "source": [
    "### Ceiling effect and data spec"
   ]
  },
  {
   "cell_type": "code",
   "execution_count": 6,
   "id": "0667a8df-54e8-4a62-b0f3-74929c2c9442",
   "metadata": {},
   "outputs": [
    {
     "data": {
      "text/plain": [
       "(0.7055542081008974, 0.6354596167838952)"
      ]
     },
     "execution_count": 6,
     "metadata": {},
     "output_type": "execute_result"
    }
   ],
   "source": [
    "len(rltc[rltc['accuracy'] == 100]) / len(rltc), len(rltc[rltc['fluency'] == 100]) / len(rltc)"
   ]
  },
  {
   "cell_type": "code",
   "execution_count": 7,
   "id": "5f0e4533-5af2-4c63-a2bd-366e1cfd1c08",
   "metadata": {},
   "outputs": [
    {
     "data": {
      "text/plain": [
       "(0.5843336334824626, 0.556199970221425)"
      ]
     },
     "execution_count": 7,
     "metadata": {},
     "output_type": "execute_result"
    }
   ],
   "source": [
    "len(mtmqm[(mtmqm['MQM_acc_score'] == 25)])/len(mtmqm), len(mtmqm[ (mtmqm['MQM_flu_score']==25)])/len(mtmqm)"
   ]
  },
  {
   "cell_type": "code",
   "execution_count": 33,
   "id": "55a2fd9b-92f1-4d9d-b466-cc5fb0120d40",
   "metadata": {},
   "outputs": [
    {
     "name": "stdout",
     "output_type": "stream",
     "text": [
      "RUC17, ENJA15, NJ12, STC17, SG12, ENDU20, BML12, ACS08, MS13, JLG10, BD13, LWB09, DG01, BD08, CREATIVE 15\n",
      "['Essay' 'Speech' 'Informational/contest' 'Informational' 'Essay/contest'\n",
      " 'Interview' 'Educational']\n",
      "CRITT\n",
      "Total number of source sentences: 399\n",
      "Mean unique translations: 10.904761904761905\n",
      "RLTC\n",
      "Total number of source sentences: 1079\n",
      "Mean unique translations: 10.467099165894346\n",
      "MTMQM\n",
      "Total number of source sentences: 11219\n",
      "Mean unique translations: 9.93002941438631\n"
     ]
    }
   ],
   "source": [
    "print(', '.join(filtered_corp_df['critt']['study'].unique()), len(filtered_corp_df['critt']['study'].unique()))\n",
    "print(filtered_corp_df['rltc']['genre'].unique())\n",
    "for corp, df in corp_tradeoff_df.items():\n",
    "    print(corp.upper())\n",
    "    print(f'Total number of source sentences: {len(df)}')\n",
    "    print(f\"Mean unique translations: {filtered_corp_df[corp].groupby('src_sent_id').count()['p_x|y'].mean()}\")\n",
    "\n"
   ]
  },
  {
   "cell_type": "markdown",
   "id": "fed411bc-ac5a-43df-92fa-807a9550925d",
   "metadata": {},
   "source": [
    "### RQ1: Defining p(y), p(x|y) tradeoff\n",
    "Slope (linear regression, most common measure of tradeoff + not affected by source length)\n",
    "\n",
    "Data\n",
    "1. HT Corpus: RLTC (https://dev.rus-ltc.org/static/html/about.html), CRITT (professional translators only). MT Corpus: WMT data with MQM annotation. \n",
    "2. Choose source sentences with at least 4 translation varieties that have no errors by human annotations.\n",
    "\n",
    "Independence test\n",
    "1. random sample: random pairing permutation of p_y, p_x|y \n",
    "2. permutation test if tradeoff is significicantly different from random sample"
   ]
  },
  {
   "cell_type": "code",
   "execution_count": 9,
   "id": "43e4ec75-6bef-4718-b7e9-01b69775a24a",
   "metadata": {},
   "outputs": [],
   "source": [
    "from copy import deepcopy\n",
    "from scipy.stats import pearsonr, ConstantInputWarning, permutation_test, ttest_ind, ttest_rel\n",
    "from statsmodels.tools.sm_exceptions import ConvergenceWarning\n",
    "import numpy as np\n",
    "import matplotlib.pyplot as plt\n",
    "from itertools import combinations\n",
    "\n",
    "import numpy as np\n",
    "from scipy.stats import pearsonr, rankdata\n",
    "from itertools import combinations\n",
    "from sklearn.linear_model import LinearRegression, Ridge\n",
    "\n",
    "np.random.seed(seed=123)\n",
    "warnings.resetwarnings()\n",
    "warnings.filterwarnings('ignore')\n",
    "\n",
    "def permutate_vals(df, groupby, cols):\n",
    "    df = deepcopy(df)\n",
    "    for col in cols:\n",
    "        df[col] = df.groupby(groupby)[col].transform(np.random.permutation)\n",
    "    return df\n",
    "\n",
    "\n",
    "def get_filtered_nan_pairs(x1, x2):\n",
    "    x1s, x2s = [], []\n",
    "    for e1, e2 in zip(x1, x2):\n",
    "        if not np.isnan(e1) and not np.isnan(e2):\n",
    "            x1s.append(e1)\n",
    "            x2s.append(e2)\n",
    "    return x1s, x2s\n",
    "\n",
    "\n",
    "def get_pearson(x, y, thresh=.05, filter_nan_pairs=True, include_pval=False):\n",
    "    if filter_nan_pairs:\n",
    "        x, y = get_filtered_nan_pairs(x, y)\n",
    "\n",
    "    if len(x) > 1 and len(y) > 1:\n",
    "        # r = pearsonr(x, y)\n",
    "        try:\n",
    "            r = pearsonr(x, y)\n",
    "        except ConstantInputWarning:\n",
    "            print(x, y)\n",
    "        if include_pval:\n",
    "            return r\n",
    "        elif thresh is not None:\n",
    "            return r[0] if r[1] < thresh else np.nan\n",
    "        else:\n",
    "            return r[0]\n",
    "    else:\n",
    "        return np.nan\n",
    "\n",
    "\n",
    "def get_tradeoff_prob(x, y, filter_nan_pairs=True):\n",
    "    if filter_nan_pairs:\n",
    "        x, y = get_filtered_nan_pairs(x, y)\n",
    "        \n",
    "    if len(x) <= 1 or len(y) <= 1:\n",
    "        return np.nan, 0, 0 \n",
    "    else:\n",
    "        xy_pairs = list(zip(x, y))\n",
    "        xy_combs = list(combinations(xy_pairs, 2))\n",
    "        ntradeoffs = 0\n",
    "        for comb in xy_combs:\n",
    "            x0, y0 = comb[0] \n",
    "            x1, y1 = comb[1]\n",
    "            if (x0 > x1 and y0 < y1) or (x0 < x1 and y0 > y1):\n",
    "                ntradeoffs += 1\n",
    "                \n",
    "        return ntradeoffs/len(xy_combs), ntradeoffs, len(xy_combs)\n",
    "    \n",
    "    \n",
    "def get_lr_coef(x, y, filter_nan_pairs=True):\n",
    "    if filter_nan_pairs:\n",
    "        x, y = get_filtered_nan_pairs(x, y)\n",
    "        \n",
    "    if len(x) <= 1 or len(y) <= 1:\n",
    "        return np.nan\n",
    "    else:\n",
    "        reg = Ridge(alpha=0.1).fit(np.expand_dims(x, axis=1), y)\n",
    "        return reg.coef_[0]\n",
    "    \n",
    "    \n",
    "def get_mixed_effect_model_slope(df, target_prob_label, recover_prob_label, groupby):\n",
    "    sdf = deepcopy(df)\n",
    "    sdf['target_prob'] = sdf[target_prob_label]\n",
    "    sdf['recover_prob'] = sdf[recover_prob_label]\n",
    "    md = smf.mixedlm(f\"target_prob ~ tgt_len + recover_prob\", sdf, groups=groupby, re_formula=\"~ 0 + recover_prob\")\n",
    "    try:\n",
    "        mdf = md.fit()\n",
    "        gdf = pd.DataFrame({groupby: df[groupby].unique()})\n",
    "        gdf[f'{target_prob_label}-{recover_prob_label}-mem_slope'] = gdf[groupby].apply(lambda x: mdf.random_effects[x]['recover_prob'])\n",
    "        return gdf\n",
    "\n",
    "    except ConvergenceWarning:\n",
    "        print(target_prob_label)\n",
    "        return None\n",
    "    \n",
    "        \n",
    "def get_ranking_corr(group_df, x_label, y_label, filter_nan_pairs=True, thresh=None):\n",
    "    x, y = group_df[x_label].values, group_df[y_label].values\n",
    "    \n",
    "    if filter_nan_pairs:\n",
    "        x, y = get_filtered_nan_pairs(x, y)\n",
    "    \n",
    "    if len(x) <= 1 or len(y) <= 1:\n",
    "        return np.nan\n",
    "    else:\n",
    "        x_rank, y_rank = rankdata(x, method='average'), rankdata(y, method='average')\n",
    "        r = pearsonr(x_rank, y_rank)\n",
    "        try:\n",
    "            r = pearsonr(x_rank, y_rank)\n",
    "        except ConstantInputWarning:\n",
    "            print(x_rank, y_rank)\n",
    "\n",
    "        if thresh is not None:\n",
    "            return r[0] if r[1] < thresh else np.nan\n",
    "        else:\n",
    "            return r[0]\n",
    "\n",
    "        \n",
    "def preprocess_df(df, groupby, tradeoff_pairs, quality_threshold=None, var_threshold=4, geq=True, pct=False):\n",
    "    \n",
    "    if quality_threshold is not None:\n",
    "        for metric, thresh in quality_threshold.items():\n",
    "            if geq:\n",
    "                df = df[df[metric] >= thresh]\n",
    "            else:\n",
    "                df = df[df[metric] < thresh]\n",
    "    \n",
    "    df = df.drop_duplicates(subset= [groupby, 'target'])\n",
    "    \n",
    "    for ft0, ft1 in tradeoff_pairs:\n",
    "        df[f'{ft0}_pct'] = df[ft0].rank(pct=True, ascending=False)\n",
    "        df[f'{ft1}_pct'] = df[ft1].rank(pct=True, ascending=False)\n",
    "    \n",
    "    df = df.groupby(groupby).filter(lambda x: len(x) >= var_threshold)\n",
    "    return df\n",
    "        \n",
    "\n",
    "\n",
    "def get_tradeoff_df(df, groupby, tradeoff_pairs, quality_threshold=None, var_threshold=4, permutate=False, geq=True, pct=False):\n",
    "    df = preprocess_df(df, groupby, tradeoff_pairs, quality_threshold=quality_threshold, var_threshold=var_threshold, geq=geq, pct=pct)\n",
    "    agg_df = None\n",
    "    \n",
    "    for ft_pair in tradeoff_pairs:\n",
    "        ft0, ft1 = ft_pair\n",
    "        \n",
    "        sdf = deepcopy(df)\n",
    "        if permutate:\n",
    "            sdf = permutate_vals(df, groupby, [ft0])\n",
    "        \n",
    "        corr_df = sdf.groupby(groupby).apply(lambda x: get_pearson(x[ft0], x[ft1], include_pval=True)).reset_index().rename(\n",
    "            columns={0: f'{ft0}-{ft1}-corr'})\n",
    "        \n",
    "        corr_nonsig_df = sdf.groupby(groupby).apply(lambda x: get_pearson(x[ft0], x[ft1], thresh=None)).reset_index().rename(\n",
    "            columns={0: f'{ft0}-{ft1}-corr-nonsig'})\n",
    "        \n",
    "        if agg_df is None:\n",
    "            agg_df = corr_df\n",
    "        else:\n",
    "            agg_df = agg_df.merge(corr_df, on=groupby, how='outer')\n",
    "        agg_df = agg_df.merge(corr_nonsig_df, on=groupby, how='outer')\n",
    "        \n",
    "    \n",
    "    return agg_df, df\n",
    "\n",
    "\n",
    "\n",
    "tradeoff_pairs = [('p_x|y', 'p_y_mt')]\n",
    "corp_label_tradeoff_pairs = {'critt': [], 'rltc': [('accuracy', 'fluency')], 'mtmqm': [('MQM_acc_score', 'MQM_flu_score')]}\n"
   ]
  },
  {
   "cell_type": "code",
   "execution_count": 10,
   "id": "90d24323-0c6c-4ef4-8516-406c444b7fff",
   "metadata": {},
   "outputs": [],
   "source": [
    "corp_df = {\"critt\": critt, \"rltc\": rltc, \"mtmqm\": mtmqm}\n",
    "corp_tradeoff_df, perm_corp_tradeoff_df = {}, {}\n",
    "filtered_corp_df = {}\n",
    "\n",
    "for corp, df in corp_df.items():\n",
    "    toff_pairs =  tradeoff_pairs + corp_label_tradeoff_pairs[corp]\n",
    "    # all translation\n",
    "    corp_tradeoff_df[f'{corp}'], filtered_corp_df[f'{corp}'] = get_tradeoff_df(df, 'src_sent_id', toff_pairs, quality_threshold=None, geq=True)\n",
    "    perm_corp_tradeoff_df[f'{corp}'], _ = get_tradeoff_df(filtered_corp_df[f'{corp}'], 'src_sent_id', toff_pairs, quality_threshold=None, permutate=True)\n",
    "    \n",
    "    \n",
    "    src_len_df = df[['src_sent_id', 'src_len']].groupby('src_sent_id').mean().reset_index()\n",
    "    src_px_df = df[['src_sent_id', 'p_x']].groupby('src_sent_id').mean().reset_index()\n",
    "    for src_df in [src_len_df, src_px_df]:\n",
    "        corp_tradeoff_df[corp] = corp_tradeoff_df[corp].merge(src_df, on='src_sent_id', how='left')\n",
    "        "
   ]
  },
  {
   "cell_type": "code",
   "execution_count": 11,
   "id": "dc47ea1d-b037-4ac1-b27f-2d0d096d0885",
   "metadata": {},
   "outputs": [],
   "source": [
    "def hist_plot(ax, corpus_name, tradeoff_df, perm_df, val, ttest=True):\n",
    "    ax = sns.histplot(tradeoff_df[val].values, ax=ax)\n",
    "    ax.axvline(linewidth=2, color='r', x=0)\n",
    "    if ttest:\n",
    "        ind_test = ttest_rel(tradeoff_df[val].values, perm_df[val].values, nan_policy='omit')\n",
    "        pval = f'$p$<.001' if ind_test.pvalue < 0.001 else f'$p$={ind_test.pvalue:.3f}'\n",
    "        ax.set_title(f'{corpus_name.upper()}\\nt={ind_test.statistic:.3f}', size=18)\n",
    "        print(pval)\n",
    "    else:\n",
    "        ax.set_title(f'{corpus_name.upper()}', size=15)\n",
    "    ax.set_xlabel(r'$r_s$', size=17)\n",
    "    ax.set_ylabel('count', size=17)\n",
    "    ax.tick_params(axis='both', which='major', labelsize=13)\n",
    "    ax.tick_params(axis='both', which='minor', labelsize=13)\n",
    "    return"
   ]
  },
  {
   "cell_type": "code",
   "execution_count": 16,
   "id": "e051a84e-2075-4a1a-83b9-7c49e4030cc4",
   "metadata": {},
   "outputs": [
    {
     "name": "stdout",
     "output_type": "stream",
     "text": [
      "$p$<.001\n",
      "$p$<.001\n",
      "$p$<.001\n"
     ]
    },
    {
     "data": {
      "image/png": "[encoded data removed]",
      "text/plain": [
       "<Figure size 576x216 with 3 Axes>"
      ]
     },
     "metadata": {
      "needs_background": "light"
     },
     "output_type": "display_data"
    }
   ],
   "source": [
    "tradeoff_pair = ('p_x|y', 'p_y_mt')\n",
    "ft0, ft1 = tradeoff_pair\n",
    "val = f'{ft0}-{ft1}-corr-nonsig'\n",
    "\n",
    "fig, axes = plt.subplots(1, 3, figsize=(8, 3))\n",
    "for i, corp in enumerate([ 'critt', 'rltc', 'mtmqm']):\n",
    "    tradeoff_df = corp_tradeoff_df[corp]\n",
    "    perm_tradeoff_df = perm_corp_tradeoff_df[corp]\n",
    "    hist_plot(axes[i], corp, tradeoff_df, perm_tradeoff_df, val)\n",
    "                         \n",
    "plt.tight_layout()\n",
    "# plt.suptitle(f'Tradeoff between ' +r'$\\mathrm{accuracy}_M$'+ ' and ' + r'$\\mathrm{fluency}_M$', y=1.1, size=20)\n",
    "plt.savefig('figures/tradeoff.pdf', bbox_inches='tight', format='pdf')\n",
    "plt.show()"
   ]
  },
  {
   "cell_type": "code",
   "execution_count": 17,
   "id": "a73bf182-8403-4cb8-bec6-f4192e1237ed",
   "metadata": {},
   "outputs": [
    {
     "name": "stdout",
     "output_type": "stream",
     "text": [
      "$p$<.001\n",
      "$p$<.001\n"
     ]
    },
    {
     "data": {
      "image/png": "[encoded data removed]",
      "text/plain": [
       "<Figure size 576x216 with 2 Axes>"
      ]
     },
     "metadata": {
      "needs_background": "light"
     },
     "output_type": "display_data"
    }
   ],
   "source": [
    "fig, axes = plt.subplots(1, 2, figsize=(8, 3))\n",
    "for i, corp in enumerate(['rltc', 'mtmqm']):\n",
    "    tradeoff_pair = corp_label_tradeoff_pairs[corp][0]\n",
    "    ft0, ft1 = tradeoff_pair\n",
    "    val = f'{ft0}-{ft1}-corr-nonsig'\n",
    "    \n",
    "    tradeoff_df = corp_tradeoff_df[corp]\n",
    "    perm_tradeoff_df = perm_corp_tradeoff_df[corp]\n",
    "    \n",
    "    hist_plot(axes[i], corp, tradeoff_df, perm_tradeoff_df, val)\n",
    "                         \n",
    "plt.tight_layout()\n",
    "# plt.suptitle(f'Tradeoff between accuracy and fluency ratings', y=1.1, x=0.55, size=20)\n",
    "plt.savefig('figures/human-tradeoff.pdf', bbox_inches='tight', format='pdf')\n",
    "plt.show()"
   ]
  },
  {
   "cell_type": "markdown",
   "id": "4752601e-d3b1-46a2-949e-a94b8c636abe",
   "metadata": {},
   "source": [
    "##### Increasing p_x -> tradeoff between accuracy_m and fluency_m"
   ]
  },
  {
   "cell_type": "code",
   "execution_count": 18,
   "id": "5aadb71b-ccc1-4920-b561-31ffdfc6cc9a",
   "metadata": {},
   "outputs": [
    {
     "name": "stdout",
     "output_type": "stream",
     "text": [
      "critt PearsonRResult(statistic=0.12422714892592601, pvalue=0.013018002315635518)\n",
      "rltc PearsonRResult(statistic=0.22474107099514568, pvalue=8.048620024213087e-14)\n",
      "mtmqm PearsonRResult(statistic=0.10902439168324785, pvalue=5.170042806473932e-31)\n"
     ]
    }
   ],
   "source": [
    "# increased p_X -> less tradeoff\n",
    "for corp in ['critt', 'rltc', 'mtmqm']:\n",
    "    df = corp_tradeoff_df[corp][['p_x|y-p_y_mt-corr-nonsig', 'p_x']].dropna()\n",
    "    print(corp, pearsonr(df['p_x|y-p_y_mt-corr-nonsig'], df['p_x']))"
   ]
  },
  {
   "cell_type": "code",
   "execution_count": 26,
   "id": "ecb03f62-daf5-4284-8fe1-3791508b3f24",
   "metadata": {},
   "outputs": [
    {
     "name": "stdout",
     "output_type": "stream",
     "text": [
      "rltc PearsonRResult(statistic=-0.15007961052110655, pvalue=1.998214504633338e-05)\n",
      "rltc PearsonRResult(statistic=0.1590064048937452, pvalue=6.126924599088382e-06)\n"
     ]
    }
   ],
   "source": [
    "corp = 'rltc'\n",
    "df = corp_tradeoff_df[corp][['accuracy-fluency-corr-nonsig', 'p_x', 'src_len']].dropna()\n",
    "print(corp, pearsonr(df['accuracy-fluency-corr-nonsig'], df['p_x']))\n",
    "print(corp, pearsonr(df['accuracy-fluency-corr-nonsig'], df['src_len']))"
   ]
  },
  {
   "cell_type": "code",
   "execution_count": 25,
   "id": "38e9caf9-7433-4675-b78f-9802504dfc6c",
   "metadata": {},
   "outputs": [
    {
     "name": "stdout",
     "output_type": "stream",
     "text": [
      "mtmqm PearsonRResult(statistic=-0.10392717034218983, pvalue=1.3431684330569151e-20)\n",
      "mtmqm PearsonRResult(statistic=0.0897005339564145, pvalue=1.0116274973862676e-15)\n"
     ]
    }
   ],
   "source": [
    "corp = 'mtmqm'\n",
    "df = corp_tradeoff_df[corp][['MQM_acc_score-MQM_flu_score-corr-nonsig', 'p_x', 'src_len']].dropna()\n",
    "print(corp, pearsonr(df['MQM_acc_score-MQM_flu_score-corr-nonsig'], df['p_x']))\n",
    "print(corp, pearsonr(df['MQM_acc_score-MQM_flu_score-corr-nonsig'], df['src_len']))"
   ]
  },
  {
   "cell_type": "markdown",
   "id": "9556f3ea-d405-4d34-866f-d04edbcfa2f4",
   "metadata": {},
   "source": [
    "##### Simpson's paradox"
   ]
  },
  {
   "cell_type": "code",
   "execution_count": 28,
   "id": "268fa65b-e2d1-4a9e-95a7-5d42011ea252",
   "metadata": {},
   "outputs": [],
   "source": [
    "from matplotlib.cm import get_cmap\n",
    "import matplotlib.colors as mcolors\n",
    "def hue_regplot(data, x, y, hue, levels, markers, palette=None, **kwargs):\n",
    "    regplots = []\n",
    "    \n",
    "    if palette is None:\n",
    "        default_colors = dict(zip(levels, list(mcolors.TABLEAU_COLORS.keys())))\n",
    "        palette = {k: default_colors[k] for k in levels}\n",
    "        print(palette)\n",
    "    \n",
    "    for key, marker in zip(levels, markers):\n",
    "        regplots.append(\n",
    "            sns.regplot(\n",
    "                x=x,\n",
    "                y=y,\n",
    "                data=data[data[hue] == key],\n",
    "                color=palette[key],\n",
    "                marker=marker,\n",
    "                **kwargs\n",
    "            )\n",
    "        )\n",
    "    \n",
    "    return regplots, levels"
   ]
  },
  {
   "cell_type": "code",
   "execution_count": 32,
   "id": "03f38e06-90d1-42cc-895a-b34d84456e93",
   "metadata": {},
   "outputs": [
    {
     "name": "stdout",
     "output_type": "stream",
     "text": [
      "{'newstest2020_ende_sciencedaily.com.75569_428': 'tab:blue', 'generalMT2022_ende_conversation_en_de_CLIENT-02_default_2021-02-07-1_doc0:English-German_95': 'tab:orange', 'generalMT2023_ende_mastodon_ashanti-development-working-with-farming-communities-in-ghana.110350775326024000:en-de_2': 'tab:green'}\n",
      "PearsonRResult(statistic=0.1397146685620921, pvalue=0.4870257073425626)\n",
      "['newstest2020_ende_sciencedaily.com.75569_428', 'generalMT2022_ende_conversation_en_de_CLIENT-02_default_2021-02-07-1_doc0:English-German_95', 'generalMT2023_ende_mastodon_ashanti-development-working-with-farming-communities-in-ghana.110350775326024000:en-de_2']\n",
      "PearsonRResult(statistic=0.736448737154702, pvalue=1.1895006669944653e-05)\n",
      "{'newstest2020_ende_sciencedaily.com.75569_428': 'tab:blue', 'generalMT2022_ende_conversation_en_de_CLIENT-02_default_2021-02-07-1_doc0:English-German_95': 'tab:orange', 'generalMT2023_ende_mastodon_ashanti-development-working-with-farming-communities-in-ghana.110350775326024000:en-de_2': 'tab:green'}\n",
      "PearsonRResult(statistic=-0.9789338863471561, pvalue=0.00012231958638432463) PearsonRResult(statistic=-0.6656329858305096, pvalue=0.10266748286596131)\n",
      "PearsonRResult(statistic=-0.9185223982856838, pvalue=0.0012709563481844543) PearsonRResult(statistic=-0.7569086354451426, pvalue=0.02968351744124833)\n",
      "PearsonRResult(statistic=-0.9325735439400842, pvalue=9.794022386192433e-06) PearsonRResult(statistic=-0.5916479470803171, pvalue=0.042720438143138056)\n"
     ]
    },
    {
     "data": {
      "image/png": "[encoded data removed]",
      "text/plain": [
       "<Figure size 648x288 with 2 Axes>"
      ]
     },
     "metadata": {
      "needs_background": "light"
     },
     "output_type": "display_data"
    }
   ],
   "source": [
    "import matplotlib.ticker as ticker\n",
    "def get_source_tradeoff(src_id, tradeoff_df, tradeoff_val='MQM_acc_score-MQM_flu_score-corr-nonsig'):\n",
    "    return tradeoff_df[tradeoff_df['src_sent_id'] == src_id][tradeoff_val].values[0]\n",
    "\n",
    "sentences = ['newstest2020_ende_sciencedaily.com.75569_428',\n",
    "       'generalMT2022_ende_conversation_en_de_CLIENT-02_default_2021-02-07-1_doc0:English-German_95',\n",
    "       'generalMT2023_ende_mastodon_ashanti-development-working-with-farming-communities-in-ghana.110350775326024000:en-de_2']\n",
    "\n",
    "sdf = filtered_corp_df['mtmqm'][filtered_corp_df['mtmqm']['src_sent_id'].isin(sentences)]\n",
    "\n",
    "\n",
    "fig, axes = plt.subplots(1, 2, figsize=(9, 4))\n",
    "flacc_ax = axes[0]\n",
    "\n",
    "_, labels = hue_regplot(sdf, x='MQM_acc_score', y='MQM_flu_score', hue='src_sent_id',  levels=sentences, ax=flacc_ax,  markers=['^', 'v', 'o']\n",
    "                        ,scatter_kws={'s':50}, x_jitter=0.1, y_jitter=0.1)\n",
    "\n",
    "\n",
    "r = pearsonr(sdf['MQM_acc_score'], sdf['MQM_flu_score'])\n",
    "print(r)\n",
    "flacc_ax.set_title(r'$r_c$=' + f'{r.statistic:.3f}', size=24)\n",
    "\n",
    "print(labels)\n",
    "\n",
    "flacc_ax.set_xlabel('accuracy', size=24)\n",
    "flacc_ax.set_ylabel('fluency', size=24)\n",
    "\n",
    "\n",
    "flacc_ax.annotate(r'$r_s$=' + f'{get_source_tradeoff(sentences[0], corp_tradeoff_df[\"mtmqm\"], tradeoff_val=\"MQM_acc_score-MQM_flu_score-corr-nonsig\"):.03f}', \n",
    "                 xy=(23, 25), xytext=( 0, 22), size=19)\n",
    "flacc_ax.annotate(r'$r_s$=' + f'{get_source_tradeoff(sentences[2], corp_tradeoff_df[\"mtmqm\"], tradeoff_val=\"MQM_acc_score-MQM_flu_score-corr-nonsig\"):.03f}'+ r'$^*$', \n",
    "                 xy=(23, 25), xytext=(7.5, 24.5), size=19)\n",
    "flacc_ax.annotate(r'$r_s$=' + f'{get_source_tradeoff(sentences[1], corp_tradeoff_df[\"mtmqm\"], tradeoff_val=\"MQM_acc_score-MQM_flu_score-corr-nonsig\"):.03f}'+ r'$^*$', \n",
    "                 xy=(23, 25), xytext=( 14.5, 26), size=19)\n",
    "flacc_ax.tick_params(axis='both', which='major', labelsize=17)\n",
    "\n",
    "# inst_r = get_source_tradeoff(sentences[0], corp_tradeoff_df[\"mtmqm\"], tradeoff_val=\"MQM_acc_score-MQM_flu_score-corr-nonsig\")\n",
    "# print(inst_r, 'inst_R')\n",
    "# flacc_ax.annotate(r'$\\rho$=' + f'{inst_r:.03f}', \n",
    "#                  xy=(23, 25), xytext=( 15, 26), size=16)\n",
    "\n",
    "r = pearsonr(sdf['p_x|y'], sdf['p_y_mt'])\n",
    "print(r)\n",
    "prob_ax = axes[1]\n",
    "_, labels = hue_regplot(sdf, x='p_x|y', y='p_y_mt', hue='src_sent_id', levels=sentences, markers=['^', 'v', 'o'], ax=prob_ax, scatter_kws={'s':50},\n",
    "                       x_jitter=30, y_jitter=80)\n",
    "\n",
    "prob_ax.set_title(r'$r_c$=' + f'{r.statistic:.3f}' + r'$^*$', size=24)\n",
    "# print(labels)\n",
    "prob_ax.set_xlabel(r'$\\mathrm{accuracy}_M$', size=24)\n",
    "prob_ax.set_ylabel(r'$\\mathrm{fluency}_M$', size=24)\n",
    "\n",
    "\n",
    "prob_ax.annotate(r'$r_s$=' + f'{get_source_tradeoff(sentences[0], corp_tradeoff_df[\"mtmqm\"], tradeoff_val=\"p_x|y-p_y_mt-corr-nonsig\"):.03f}'+ r'$^*$', \n",
    "                 xy=( -285.85, -1923.54), xytext=( -240, -1900), size=19)\n",
    "prob_ax.annotate(r'$r_s$=' + f'{get_source_tradeoff(sentences[2], corp_tradeoff_df[\"mtmqm\"], tradeoff_val=\"p_x|y-p_y_mt-corr-nonsig\"):.03f}'+ r'$^*$', \n",
    "                 xy=( -285.85, -1923.54), xytext=( -120, -1300), size=19)\n",
    "prob_ax.annotate(r'$r_s$=' + f'{get_source_tradeoff(sentences[1], corp_tradeoff_df[\"mtmqm\"], tradeoff_val=\"p_x|y-p_y_mt-corr-nonsig\"):.03f}'+ r'$^*$', \n",
    "                 xy=( -285.85, -1923.54), xytext=( -170, -120), size=19)\n",
    "prob_ax.tick_params(axis='both', which='major', labelsize=17)\n",
    "\n",
    "for sent in sentences:\n",
    "    print(get_source_tradeoff(sent, corp_tradeoff_df[\"mtmqm\"], tradeoff_val=\"p_x|y-p_y_mt-corr\"),\n",
    "          get_source_tradeoff(sent, corp_tradeoff_df[\"mtmqm\"], tradeoff_val=\"MQM_acc_score-MQM_flu_score-corr\"))\n",
    "\n",
    " \n",
    "\n",
    "plt.tight_layout()\n",
    "plt.savefig('figures/simpson-paradox.pdf', bbox_inches='tight', format='pdf')\n",
    "plt.show()"
   ]
  },
  {
   "cell_type": "markdown",
   "id": "244b445b-0f8b-4b9d-901d-0b6f82ac9c41",
   "metadata": {
    "tags": []
   },
   "source": [
    "##### Manual analysis"
   ]
  },
  {
   "cell_type": "code",
   "execution_count": 21,
   "id": "b6a36884-3dab-4bb5-863a-a6575d9a1bdc",
   "metadata": {},
   "outputs": [
    {
     "name": "stdout",
     "output_type": "stream",
     "text": [
      "I issued you a refund of the book.\n",
      "\n",
      "Ich gab Ihnen eine Rückerstattung des Buches.\\\\ \\{accuracy: 23.0, fluency: 25.0, \\accuracym: -10.8125, \\fluencym: -56.0, $\\og p(y|x)$: -10.3125\\} \\\\\\midrule\n",
      "Ich habe dir eine Rückerstattung des Buches ausgestellt.\\\\ \\{accuracy: 23.0, fluency: 25.0, \\accuracym: -5.84375, \\fluencym: -62.5, $\\og p(y|x)$: -12.4375\\} \\\\\\midrule\n",
      "Ich habe dir das Buch zurückerstattet.\\\\ \\{accuracy: 23.0, fluency: 25.0, \\accuracym: -17.5, \\fluencym: -44.25, $\\og p(y|x)$: -7.625\\} \\\\\\midrule\n",
      "Ich habe Ihnen das Buch erstattet.\\\\ \\{accuracy: 24.0, fluency: 25.0, \\accuracym: -15.1875, \\fluencym: -43.25, $\\og p(y|x)$: -9.0625\\} \\\\\\midrule\n",
      "Ich habe Ihnen das Buch zurückerstattet.\\\\ \\{accuracy: 24.2, fluency: 25.0, \\accuracym: -17.25, \\fluencym: -43.5, $\\og p(y|x)$: -7.28125\\} \\\\\\midrule\n",
      "Ich habe Ihnen eine Rückerstattung des Buches ausgestellt.\\\\ \\{accuracy: 24.333333333333332, fluency: 24.666666666666668, \\accuracym: -6.125, \\fluencym: -64.0, $\\og p(y|x)$: -12.125\\} \\\\\\midrule\n",
      "Ich stellte Ihnen eine Rückerstattung des Buches aus.\\\\ \\{accuracy: 25.0, fluency: 23.0, \\accuracym: -6.4375, \\fluencym: -70.0, $\\og p(y|x)$: -14.75\\} \\\\\\midrule\n",
      "Ich habe Ihnen eine Rückerstattung für das Buch erteilt.\\\\ \\{accuracy: 25.0, fluency: 24.0, \\accuracym: -11.5625, \\fluencym: -63.0, $\\og p(y|x)$: -14.1875\\} \\\\\\midrule\n"
     ]
    }
   ],
   "source": [
    "def df2latex(df):\n",
    "    for index, row in df.iterrows():\n",
    "        values = list(row.values)\n",
    "        trans = values[0].replace('_', '\\_')\n",
    "        vals = f'accuracy: {values[1]}, fluency: {values[2]}, ' + f'\\\\accuracym: {values[3]}, ' + f'\\\\fluencym: {values[4]}, ' + r'$\\og p(y|x)$: ' + f'{values[5]}'\n",
    "        # values[1] =  '\\makecell[l]{' + values[1] + '}'  \n",
    "        print(trans + '\\\\\\\\ \\{' + vals + '\\} \\\\\\\\\\\\midrule')\n",
    "        \n",
    "\n",
    "\n",
    "sdf = filtered_corp_df['mtmqm'][filtered_corp_df['mtmqm']['src_sent_id'].isin(sentences)]\n",
    "sentence_df = sdf[sdf['src_sent_id'] ==  'generalMT2022_ende_conversation_en_de_CLIENT-02_default_2021-02-07-1_doc0:English-German_95'][[\n",
    "    'source', 'system', 'target',  'MQM_acc_score', 'MQM_flu_score',  'p_x|y', 'p_y_mt', 'p_y|x', 'category', 'severity']].sort_values('MQM_acc_score')\n",
    "# sentence_df\n",
    "print(sentence_df.source.values[0])\n",
    "print()\n",
    "sentence_df[[ 'system', 'target',  'MQM_acc_score', 'MQM_flu_score',  'p_x|y', 'p_y_mt', 'p_y|x']]\n",
    "\n",
    "df2latex(sentence_df[[ 'target',  'MQM_acc_score', 'MQM_flu_score',  'p_x|y', 'p_y_mt', 'p_y|x']])"
   ]
  },
  {
   "cell_type": "markdown",
   "id": "3cde9d06-4be8-4f00-bcc6-efb74d17c0f0",
   "metadata": {
    "tags": []
   },
   "source": [
    "##### Corpus-level correlations, tradeoff alignment"
   ]
  },
  {
   "cell_type": "code",
   "execution_count": 61,
   "id": "9ee042ed-a00d-4efb-90fc-535121b53234",
   "metadata": {},
   "outputs": [
    {
     "name": "stdout",
     "output_type": "stream",
     "text": [
      "mtmqm PearsonRResult(statistic=0.6754200612785926, pvalue=0.0)\n",
      "rltc PearsonRResult(statistic=0.6846468212964137, pvalue=0.0)\n",
      "critt PearsonRResult(statistic=0.6249251363261122, pvalue=0.0)\n"
     ]
    }
   ],
   "source": [
    "for i, ocorp in enumerate(['mtmqm', 'rltc', 'critt']):\n",
    "    df = filtered_corp_df[ocorp]\n",
    "    print(ocorp, pearsonr(df['p_x|y'], df['p_y_mt']))"
   ]
  },
  {
   "cell_type": "code",
   "execution_count": 62,
   "id": "a1008361-5c31-4a3a-8c03-01223cf06c32",
   "metadata": {},
   "outputs": [
    {
     "name": "stdout",
     "output_type": "stream",
     "text": [
      "mtmqm MQM_acc_score MQM_flu_score PearsonRResult(statistic=0.3918938149928612, pvalue=0.0)\n",
      "rltc accuracy fluency PearsonRResult(statistic=-0.08470508726068293, pvalue=1.93142036744542e-19)\n"
     ]
    }
   ],
   "source": [
    "for i, ocorp in enumerate(['mtmqm', 'rltc']):\n",
    "    df = filtered_corp_df[ocorp]\n",
    "    ft0, ft1 = corp_label_tradeoff_pairs[ocorp][0]\n",
    "    print(ocorp, ft0, ft1,  pearsonr(df[ft0], df[ft1]))"
   ]
  },
  {
   "cell_type": "code",
   "execution_count": 24,
   "id": "2d65a5d6-5101-4692-9788-2766fd62cda7",
   "metadata": {},
   "outputs": [
    {
     "name": "stdout",
     "output_type": "stream",
     "text": [
      "rltc 801 PearsonRResult(statistic=0.002995955698496068, pvalue=0.9325323789745128)\n",
      "mtmqm 7975 PearsonRResult(statistic=0.021572010309668068, pvalue=0.05405890312215018)\n"
     ]
    }
   ],
   "source": [
    "\n",
    "estimated_tradeoff_pair = ('p_x|y', 'p_y_mt')\n",
    "for i, ocorp in enumerate(['rltc', 'mtmqm']):\n",
    "\n",
    "    hft0, hft1 = corp_label_tradeoff_pairs[ocorp][0]\n",
    "    mft0, mft1 = estimated_tradeoff_pair\n",
    "    \n",
    "    hval = f'{hft0}-{hft1}-corr-nonsig'\n",
    "    mval = f'{mft0}-{mft1}-corr-nonsig'\n",
    "    \n",
    "    for j, corp in enumerate([ocorp]):\n",
    "        if corp in corp_tradeoff_df:\n",
    "            tradeoff_df = corp_tradeoff_df[corp]\n",
    "            df = tradeoff_df[[hval, mval]].dropna()\n",
    "            print(corp, len(df), pearsonr(df[hval], df[mval]))\n"
   ]
  },
  {
   "cell_type": "markdown",
   "id": "8806b951-d26f-4843-b59f-a5b8fb66806e",
   "metadata": {},
   "source": [
    "### RQ1B: Fluency and accuracy"
   ]
  },
  {
   "cell_type": "code",
   "execution_count": 31,
   "id": "935c3986-b926-4fb5-979c-4df9900527fc",
   "metadata": {},
   "outputs": [],
   "source": [
    "def correlation_comparison_mqm(data, x, ys):\n",
    "    corr_dict = {'corpus': [], 'lpair': []}\n",
    "    for y in ys:\n",
    "        corr_dict[y] = []\n",
    "        \n",
    "    bar_plot_dict = {'corpus-lpair': [], 'corr': [], 'y':[], 'year': []}\n",
    "\n",
    "    for i, (corpus, lpair_dfs) in enumerate(data.groupby('corpus')):\n",
    "        for j, (lpair, df) in enumerate(lpair_dfs.groupby('lpair')):\n",
    "            if lpair != 'enru':\n",
    "                corr_dict['corpus'].append(corpus)\n",
    "                corr_dict['lpair'].append(lpair)\n",
    "                \n",
    "                for y in ys:\n",
    "                    sdf = df[[x, y]].dropna()\n",
    "                    r = pearsonr(sdf[x].values, sdf[y].values)\n",
    "                    corr_dict[y].append(tuple(r))\n",
    "                    bar_plot_dict['corpus-lpair'].append(f'{corpus}\\n{lpair}')\n",
    "                    bar_plot_dict['y'].append(y)\n",
    "                    bar_plot_dict['corr'].append(r.statistic)\n",
    "                    if corpus!= 'ted':\n",
    "                        bar_plot_dict['year'].append(int(corpus[-4:]))\n",
    "                    else:\n",
    "                        bar_plot_dict['year'].append(2021)\n",
    "                        \n",
    "    plot_df = pd.DataFrame.from_dict(bar_plot_dict, orient='index').transpose()\n",
    "    plot_df = plot_df.sort_values(by='year')\n",
    "    return pd.DataFrame.from_dict(corr_dict,orient='index').transpose(), plot_df"
   ]
  },
  {
   "cell_type": "code",
   "execution_count": 150,
   "id": "0a7c371e-9fa8-47f0-bdb6-0fb428faee1d",
   "metadata": {},
   "outputs": [],
   "source": [
    "label_name = {'p_y|x': r'$\\log p(y|x)$', 'p_x|y': r'$\\mathrm{accuracy}_M$', 'p_y_mt': r'$\\mathrm{fluency}_M$'}\n"
   ]
  },
  {
   "cell_type": "code",
   "execution_count": 33,
   "id": "424f7650-50a5-48ee-b888-3de42b5c048c",
   "metadata": {},
   "outputs": [
    {
     "name": "stdout",
     "output_type": "stream",
     "text": [
      "PearsonRResult(statistic=0.1942284867502753, pvalue=1.9692822195690785e-96)\n",
      "PearsonRResult(statistic=0.16826970982839104, pvalue=1.6518213620358713e-72)\n",
      "PearsonRResult(statistic=0.15791427385705809, pvalue=5.6798006006237004e-64)\n",
      "PearsonRResult(statistic=0.06951544788002152, pvalue=1.4060049893336684e-13)\n",
      "PearsonRResult(statistic=0.17218871698660304, pvalue=6.898224229985427e-76)\n",
      "PearsonRResult(statistic=0.21831614831927912, pvalue=6.172706487362982e-122)\n"
     ]
    }
   ],
   "source": [
    "filtered_corp_df['rltc']['p_y|x_pct'] = filtered_corp_df['rltc']['p_y|x'].rank(pct=True, ascending=False)\n",
    "\n",
    "preds = ['p_y|x', 'p_x|y', 'p_y_mt']\n",
    "bar_dict = {'corr': [], 'human rating': [], 'predictor': []}\n",
    "for pred in preds:\n",
    "    for y in ['accuracy', 'fluency']:\n",
    "        sdf = filtered_corp_df['rltc'][[f'{pred}_pct', f'{y}_pct']].dropna()\n",
    "        r = pearsonr(sdf[f'{pred}_pct'].values, sdf[f'{y}_pct'].values)\n",
    "        print(r)\n",
    "        bar_dict['corr'].append(r[0])\n",
    "        bar_dict['human rating'].append(y)\n",
    "        bar_dict['predictor'].append(pred)"
   ]
  },
  {
   "cell_type": "code",
   "execution_count": 151,
   "id": "be992284-ccdb-41cd-8bd5-0a772023f2de",
   "metadata": {},
   "outputs": [
    {
     "data": {
      "image/png": "[encoded data removed]",
      "text/plain": [
       "<Figure size 576x144 with 3 Axes>"
      ]
     },
     "metadata": {
      "needs_background": "light"
     },
     "output_type": "display_data"
    }
   ],
   "source": [
    "ys = ['p_y|x', 'p_x|y', 'p_y_mt']\n",
    "ys = [f'{y}_pct'for y in ys]\n",
    "\n",
    "filtered_corp_df['mtmqm']['p_y|x_pct']  = filtered_corp_df['mtmqm']['p_y|x'].rank(pct=True, ascending=False)\n",
    "\n",
    "fig, axes = plt.subplots(1, 3, figsize=(8, 2), sharey=True, gridspec_kw={'width_ratios': [1, 2, 2],  'wspace':0.1})\n",
    "\n",
    "ax = axes[0]\n",
    "ax = sns.barplot(pd.DataFrame(bar_dict), y='corr', x='human rating', hue='predictor', ax=ax)\n",
    "ax.set_ylabel('corr', size=16)\n",
    "ax.set_title('RLTC', size=16)\n",
    "handles, labels = ax.get_legend_handles_labels()\n",
    "ax.legend(handles=handles[0:], labels=[label_name[l] for l in labels[0:]], fontsize=13, bbox_to_anchor=(1.01, 0.9))\n",
    "ax.set(xlabel=None)\n",
    "ax.set_xticklabels(['Acc.', 'Flu.'], size=15)\n",
    "ax.get_legend().remove()\n",
    "\n",
    "\n",
    "ax = axes[1]\n",
    "mqm_acc_corr, mqm_acc_corr_bar = correlation_comparison_mqm(filtered_corp_df['mtmqm'], 'MQM_acc_score_pct', ys)\n",
    "mqm_acc_corr_bar = mqm_acc_corr_bar[mqm_acc_corr_bar['year'] >= 2022]\n",
    "\n",
    "# sns.set(font_size = 12)\n",
    "sns.barplot(mqm_acc_corr_bar, x='corpus-lpair', y='corr', hue='y', ax=ax, hue_order=ys)\n",
    "ax.set_title('WMT Accuracy', size=16)\n",
    "ax.set(xlabel=None)\n",
    "handles, labels = ax.get_legend_handles_labels()\n",
    "ax.get_legend().remove()\n",
    "ax.set_ylabel(None)\n",
    "mqm_acc_corr_bar['year-lpair'] = mqm_acc_corr_bar['corpus-lpair'].apply(lambda x: x[-9:])\n",
    "ax.set_xticks(range(len(mqm_acc_corr_bar['year-lpair'].unique())), mqm_acc_corr_bar['year-lpair'].unique() , size=15)\n",
    "\n",
    "\n",
    "ax = axes[2]\n",
    "mqm_flu_corr, mqm_flu_corr_bar = correlation_comparison_mqm(filtered_corp_df['mtmqm'], 'MQM_flu_score_pct', ys)\n",
    "mqm_flu_corr_bar = mqm_flu_corr_bar[mqm_flu_corr_bar['year'] >= 2022]\n",
    "# fig, ax = plt.subplots(1, 1, figsize=(4, 2))\n",
    "# sns.set(font_size = 12)\n",
    "sns.barplot(mqm_flu_corr_bar, x='corpus-lpair', y='corr', hue='y', ax=ax, hue_order=ys)\n",
    "\n",
    "ax.set_title('WMT Fluency', size=16)\n",
    "ax.set(xlabel=None)\n",
    "# ax.set_ylabel(r'$\\rho$', size=15)\n",
    "ax.set_ylabel(None)\n",
    "handles, labels = ax.get_legend_handles_labels()\n",
    "\n",
    "mqm_flu_corr_bar['year-lpair'] = mqm_flu_corr_bar['corpus-lpair'].apply(lambda x: x[-9:])\n",
    "ax.set_xticks(range(len(mqm_flu_corr_bar['year-lpair'].unique())), mqm_flu_corr_bar['year-lpair'].unique(), size=15)\n",
    "\n",
    "\n",
    "ax.legend(handles=handles[0:], labels=[label_name[l.replace('_pct', '')] for l in labels[0:]], fontsize=15, bbox_to_anchor=(0.8, -0.4), ncol=3)\n",
    "\n",
    "plt.tight_layout()\n",
    "plt.savefig('figures/prob-acc-flu-bar.pdf', bbox_inches='tight', format='pdf')"
   ]
  },
  {
   "cell_type": "code",
   "execution_count": null,
   "id": "353a9bf2-fe07-455f-9b8e-ba9208bebfce",
   "metadata": {},
   "outputs": [],
   "source": []
  }
 ],
 "metadata": {
  "kernelspec": {
   "display_name": "Python 3 (ipykernel)",
   "language": "python",
   "name": "python3"
  },
  "language_info": {
   "codemirror_mode": {
    "name": "ipython",
    "version": 3
   },
   "file_extension": ".py",
   "mimetype": "text/x-python",
   "name": "python",
   "nbconvert_exporter": "python",
   "pygments_lexer": "ipython3",
   "version": "3.9.7"
  }
 },
 "nbformat": 4,
 "nbformat_minor": 5
}
